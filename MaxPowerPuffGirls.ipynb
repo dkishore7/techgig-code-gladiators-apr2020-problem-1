{
 "cells": [
  {
   "cell_type": "code",
   "execution_count": 1,
   "metadata": {},
   "outputs": [],
   "source": [
    "''' Read input from STDIN. Print your output to STDOUT '''\n",
    "    #Use input() to read input from STDIN and use print to write your output to STDOUT\n",
    "\n",
    "def main():\n",
    "    number_ingredients = int(input())\n",
    "    min_quantity_list = list(input().split())\n",
    "    material_list = list(input().split())\n",
    "\n",
    "    max_per_item = []\n",
    "\n",
    "    for i in range(number_ingredients):\n",
    "        temp = int(material_list[i])//int(min_quantity_list[i])\n",
    "        max_per_item.append(temp) \n",
    "\n",
    "    print(min(max_per_item))"
   ]
  },
  {
   "cell_type": "code",
   "execution_count": null,
   "metadata": {},
   "outputs": [],
   "source": [
    "main()"
   ]
  },
  {
   "cell_type": "code",
   "execution_count": null,
   "metadata": {},
   "outputs": [],
   "source": []
  }
 ],
 "metadata": {
  "kernelspec": {
   "display_name": "Python 3",
   "language": "python",
   "name": "python3"
  },
  "language_info": {
   "codemirror_mode": {
    "name": "ipython",
    "version": 3
   },
   "file_extension": ".py",
   "mimetype": "text/x-python",
   "name": "python",
   "nbconvert_exporter": "python",
   "pygments_lexer": "ipython3",
   "version": "3.7.4"
  }
 },
 "nbformat": 4,
 "nbformat_minor": 2
}
