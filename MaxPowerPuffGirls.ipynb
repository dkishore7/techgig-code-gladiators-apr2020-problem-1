{
 "cells": [
  {
   "cell_type": "markdown",
   "metadata": {},
   "source": [
    "The Powerpuff Girls (100 Marks) Professor Utonium is restless because of the increasing crime in the world. The number of villains and their activities has increased to a great extent. The current trio of Powerpuff Girls is not well to fight the evils of the whole world. Professor has decided to create the maximum number of Powerpuff Girls with the ingredients he has.\n",
    "\n",
    "There are N ingredients required in a certain quantity to create a Powerpuff Girl. Professor has all the N ingredients in his laboratory and knows the quantity of each available ingredient. He also knows the quantity of a particular ingredient required to create a Powerpuff Girl. Professor is busy with the preparations and wants to start asap.\n",
    "\n",
    "The villains, on the other hand, want to destroy the laboratory and stop Professor Utonium from creating more Powerpuff girls. Mojo Jojo is coming prepared with ammunition and Him is leading other villains like Princess, Amoeba Boys, Sedusa, Gangreen Gang etc.\n",
    "\n",
    "Professor does not have much time as villains will reach the laboratory soon. He is starting the process but does not know the number of Powerpuff Girls which will be created. He needs your help in determining the maximum number of Powerpuff Girls which will be created with the current quantity of ingredients.\n",
    "\n",
    "Example:\n",
    "\n",
    "Professor Utonium requires 3 ingredients to make Powerpuff Girls. The 3 ingredients are present in the laboratory in the given quantity:\n",
    "\n",
    "To make a Powerpuff Girl, Professor Utonium requires:\n",
    "\n",
    "3 units of Ingredient A\n",
    "\n",
    "6 units of Ingredient B\n",
    "\n",
    "10 units of Ingredient C\n",
    "\n",
    "The maximum number of Powerpuff Girls which can be created are 3 as after 3, Professor will run out of Ingredient C.\n",
    "\n",
    "Image Source: Google\n",
    "\n",
    "Can you determine the maximum number?\n",
    "\n",
    "Input Format The first line of input consists of the number of ingredients, N\n",
    "\n",
    "The second line of input consists of the N space-separated integers representing the quantity of each ingredient required to create a Powerpuff Girl.\n",
    "\n",
    "The third line of input consists of the N space-separated integers representing the quantity of each ingredient present in the laboratory.\n",
    "\n",
    "Constraints 1<= N <=10000000 (1e7)\n",
    "\n",
    "0<= Quantity_of_ingredient <= LLONG_MAX\n",
    "\n",
    "Output Format Print the required output in a separate line.\n",
    "\n",
    "Sample TestCase 1 \n",
    "\n",
    "Input \n",
    "4 \n",
    "2 5 6 3 \n",
    "20 40 90 50 \n",
    "\n",
    "Output \n",
    "8"
   ]
  },
  {
   "cell_type": "code",
   "execution_count": 1,
   "metadata": {},
   "outputs": [],
   "source": [
    "''' Read input from STDIN. Print your output to STDOUT '''\n",
    "    #Use input() to read input from STDIN and use print to write your output to STDOUT\n",
    "\n",
    "def main():\n",
    "    \"\"\"\n",
    "    This will read 3 lines of input\n",
    "    e.g.\n",
    "    First line (no. of ingredients): 4 \n",
    "    Second line (quantity of units per ingredient): 2 5 6 3 \n",
    "    Third line: 20 40 90 50 \n",
    "    \n",
    "    Expected Output \n",
    "    8\n",
    "    \"\"\"\n",
    "    number_ingredients = int(input())\n",
    "    min_quantity_list = list(input().split())\n",
    "    material_list = list(input().split())\n",
    "\n",
    "    max_per_item = []\n",
    "\n",
    "    for i in range(number_ingredients):\n",
    "        temp = int(material_list[i])//int(min_quantity_list[i])\n",
    "        max_per_item.append(temp) \n",
    "\n",
    "    print(min(max_per_item))"
   ]
  },
  {
   "cell_type": "code",
   "execution_count": 3,
   "metadata": {},
   "outputs": [
    {
     "name": "stdout",
     "output_type": "stream",
     "text": [
      "4\n",
      "2 5 6 3\n",
      "20 40 90 50\n",
      "8\n"
     ]
    }
   ],
   "source": [
    "main()"
   ]
  },
  {
   "cell_type": "code",
   "execution_count": null,
   "metadata": {},
   "outputs": [],
   "source": []
  }
 ],
 "metadata": {
  "kernelspec": {
   "display_name": "Python 3",
   "language": "python",
   "name": "python3"
  },
  "language_info": {
   "codemirror_mode": {
    "name": "ipython",
    "version": 3
   },
   "file_extension": ".py",
   "mimetype": "text/x-python",
   "name": "python",
   "nbconvert_exporter": "python",
   "pygments_lexer": "ipython3",
   "version": "3.7.4"
  }
 },
 "nbformat": 4,
 "nbformat_minor": 2
}
